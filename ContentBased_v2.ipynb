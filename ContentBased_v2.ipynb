{
 "cells": [
  {
   "cell_type": "code",
   "execution_count": 4,
   "metadata": {},
   "outputs": [],
   "source": [
    "import pandas as pd\n",
    "import numpy as np"
   ]
  },
  {
   "cell_type": "code",
   "execution_count": 5,
   "metadata": {},
   "outputs": [],
   "source": [
    "from tqdm import tqdm\n",
    "import pickle\n",
    "from collections import Counter"
   ]
  },
  {
   "cell_type": "code",
   "execution_count": 6,
   "metadata": {},
   "outputs": [],
   "source": [
    "def save_obj(obj, name):\n",
    "    with open(name + '.pkl', 'wb') as f:\n",
    "        pickle.dump(obj, f, pickle.HIGHEST_PROTOCOL)\n",
    "\n",
    "def load_obj(name):\n",
    "    with open(name + '.pkl', 'rb') as f:\n",
    "        return pickle.load(f)"
   ]
  },
  {
   "cell_type": "code",
   "execution_count": null,
   "metadata": {},
   "outputs": [],
   "source": []
  },
  {
   "cell_type": "code",
   "execution_count": null,
   "metadata": {},
   "outputs": [],
   "source": []
  },
  {
   "cell_type": "code",
   "execution_count": 127,
   "metadata": {},
   "outputs": [],
   "source": [
    "sample = pd.read_csv(\"sample_submission.csv\")\n",
    "interactions = pd.read_csv(\"interactions.csv\")\n",
    "items = pd.read_csv(\"items.csv\")\n",
    "users = pd.read_csv(\"users.csv\")"
   ]
  },
  {
   "cell_type": "code",
   "execution_count": 5,
   "metadata": {},
   "outputs": [],
   "source": [
    "interactions['start_date'] = pd.to_datetime(interactions['start_date'])\n",
    "users.fillna(0,inplace=True)\n",
    "#interactions.start_date.max() - pd.DateOffset(30)\n"
   ]
  },
  {
   "cell_type": "code",
   "execution_count": 73,
   "metadata": {},
   "outputs": [],
   "source": [
    "user_ind = np.array([])\n",
    "for i in sample.Id:\n",
    "    user_ind = np.append(user_ind,np.where(interactions.user_id==i)[0])\n",
    "merged = (interactions.iloc[user_ind].merge(items,left_on='item_id',right_on='id'))\n",
    "int_item = (interactions.merge(items,left_on='item_id',right_on='id'))\n",
    "int_user = interactions.merge(users,on='user_id')\n",
    "int_user = int_user.merge(items,left_on='item_id',right_on='id')\n",
    "int_item.authors.fillna('nan',inplace=True)"
   ]
  },
  {
   "cell_type": "code",
   "execution_count": 7,
   "metadata": {},
   "outputs": [],
   "source": [
    "def count_genres_authors(data):\n",
    "    counter_genre = Counter()\n",
    "    counter_author = Counter()\n",
    "    for i in tqdm(range(data.shape[0])):\n",
    "        genres = str(data.iloc[i].genres).split(',')\n",
    "        authors = str(data.iloc[i].authors).split(',')\n",
    "        counter_genre.update(genres)\n",
    "        counter_author.update(authors)\n",
    "    return counter_genre,counter_author"
   ]
  },
  {
   "cell_type": "code",
   "execution_count": 8,
   "metadata": {},
   "outputs": [
    {
     "name": "stderr",
     "output_type": "stream",
     "text": [
      "100%|██████████| 63758/63758 [00:15<00:00, 4198.14it/s]\n"
     ]
    }
   ],
   "source": [
    "counter_genre,counter_author = count_genres_authors(items)"
   ]
  },
  {
   "cell_type": "code",
   "execution_count": 9,
   "metadata": {},
   "outputs": [],
   "source": [
    "def make_author_genre(counter_genre,counter_author,data):\n",
    "    author_genre = pd.DataFrame(0,index=list(counter_author.keys()),columns=list(counter_genre.keys()))\n",
    "    for i in tqdm(range(data.shape[0])):\n",
    "        genres = str(data.iloc[i].genres).split(',')\n",
    "        authors = str(data.iloc[i].authors).split(',')\n",
    "        for genre in genres:\n",
    "            for author in authors:\n",
    "                author_genre.loc[author,genre] += 1\n",
    "    return author_genre"
   ]
  },
  {
   "cell_type": "code",
   "execution_count": 52,
   "metadata": {},
   "outputs": [
    {
     "name": "stderr",
     "output_type": "stream",
     "text": [
      "100%|██████████| 91642/91642 [01:14<00:00, 1226.01it/s]\n"
     ]
    }
   ],
   "source": [
    "author_genre = make_author_genre(counter_genre,counter_author,merged)"
   ]
  },
  {
   "cell_type": "code",
   "execution_count": 53,
   "metadata": {},
   "outputs": [],
   "source": [
    "author_genre.to_csv('author_genre.csv')"
   ]
  },
  {
   "cell_type": "code",
   "execution_count": 56,
   "metadata": {},
   "outputs": [],
   "source": [
    "author_genre = pd.read_csv('author_genre.csv',index_col=0)"
   ]
  },
  {
   "cell_type": "code",
   "execution_count": null,
   "metadata": {},
   "outputs": [],
   "source": []
  },
  {
   "cell_type": "code",
   "execution_count": 112,
   "metadata": {},
   "outputs": [
    {
     "name": "stdout",
     "output_type": "stream",
     "text": [
      "CPU times: user 1.49 s, sys: 8.35 ms, total: 1.5 s\n",
      "Wall time: 1.5 s\n"
     ]
    }
   ],
   "source": [
    "%%time\n",
    "user_list_less_8 = []\n",
    "user_list_more_8 = []\n",
    "for i,user in enumerate(sample.Id.values):\n",
    "    if merged.loc[merged.user_id==user].shape[0]<10:\n",
    "        user_list_less_8.append(i)\n",
    "    else:\n",
    "        user_list_more_8.append(i)"
   ]
  },
  {
   "cell_type": "code",
   "execution_count": null,
   "metadata": {},
   "outputs": [],
   "source": []
  },
  {
   "cell_type": "code",
   "execution_count": 13,
   "metadata": {},
   "outputs": [
    {
     "data": {
      "text/plain": [
       "(875, 2199)"
      ]
     },
     "execution_count": 13,
     "metadata": {},
     "output_type": "execute_result"
    }
   ],
   "source": [
    "len(user_list_less_8),len(user_list_more_8)"
   ]
  },
  {
   "cell_type": "code",
   "execution_count": 14,
   "metadata": {},
   "outputs": [],
   "source": [
    "def find_users_attr(user):\n",
    "    counter_genre = Counter()\n",
    "    counter_author = Counter()\n",
    "    row = merged.loc[merged.user_id==user].sort_values(by='start_date')\n",
    "    \n",
    "    for i in row.genres.to_list():\n",
    "        counter_genre.update(i.split(','))\n",
    "    \n",
    "    for i in row.authors.to_list():\n",
    "        counter_author.update(str(i).split(','))\n",
    "        \n",
    "    top1_genre = counter_genre.most_common(2)[0][0]\n",
    "    top2_genre = counter_genre.most_common(2)[1][0]\n",
    "    \n",
    "    top1_author = counter_author.most_common(1)[0][0]\n",
    "    if len(counter_author)==sum(counter_author.values()):\n",
    "        top1_author = str(row.iloc[-1].authors).split(',')[0]\n",
    "    \n",
    "    last1_author = str(row.iloc[-1].authors).split(',')[0]\n",
    "    \n",
    "    if len(counter_author)==1:\n",
    "        last2_author = str(row.iloc[-1].authors).split(',')[0]\n",
    "        return top1_genre,top2_genre,top1_author,last1_author,last2_author\n",
    "    \n",
    "    last2_author = str(row.iloc[-2].authors).split(',')[0]\n",
    "    \n",
    "    return top1_genre,top2_genre,top1_author,last1_author,last2_author"
   ]
  },
  {
   "cell_type": "code",
   "execution_count": null,
   "metadata": {},
   "outputs": [],
   "source": []
  },
  {
   "cell_type": "code",
   "execution_count": 15,
   "metadata": {},
   "outputs": [],
   "source": [
    "male_top_15 = int_user.loc[int_user.start_date>'2019-12-01'].loc[int_user.sex==0].\\\n",
    "    groupby('item_id')['item_id'].count().sort_values(ascending=False).head(15).index.to_list()\n",
    "female_top_15 = int_user.loc[int_user.start_date>'2019-12-01'].loc[int_user.sex==1].\\\n",
    "    groupby('item_id')['item_id'].count().sort_values(ascending=False).head(15).index.to_list()\n",
    "all_top_15 = int_user.loc[int_user.start_date>'2019-12-01'].\\\n",
    "    groupby('item_id')['item_id'].count().sort_values(ascending=False).head(15).index.to_list()"
   ]
  },
  {
   "cell_type": "code",
   "execution_count": null,
   "metadata": {},
   "outputs": [],
   "source": []
  },
  {
   "cell_type": "code",
   "execution_count": 16,
   "metadata": {},
   "outputs": [],
   "source": [
    "def recommend_n_popular(n,user,user_activity,pred):\n",
    "    user_items = user_activity.item_id.values\n",
    "    gender = users.loc[users.user_id==user].sex.values\n",
    "    prediction = []\n",
    "    \n",
    "    if len(gender) == 0:\n",
    "        for item in all_top_15:\n",
    "            if len(prediction)==n:\n",
    "                break\n",
    "            if item not in user_items and item not in pred:\n",
    "                prediction.append(item)  \n",
    "                \n",
    "    elif gender == 0:\n",
    "        for item in male_top_15:\n",
    "            if len(prediction)==n:\n",
    "                break\n",
    "            if item not in user_items and item not in pred:\n",
    "                prediction.append(item) \n",
    "                \n",
    "    elif gender == 1:\n",
    "        for item in female_top_15:\n",
    "            if len(prediction)==n:\n",
    "                break\n",
    "            if item not in user_items and item not in pred:\n",
    "                prediction.append(item)\n",
    "                \n",
    "    return pred + prediction"
   ]
  },
  {
   "cell_type": "code",
   "execution_count": null,
   "metadata": {},
   "outputs": [],
   "source": []
  },
  {
   "cell_type": "code",
   "execution_count": 23,
   "metadata": {},
   "outputs": [],
   "source": [
    "def make_author_most_pop(data,gender=None):\n",
    "    author_most_pop = dict()\n",
    "    \n",
    "    if gender is None:\n",
    "        for author in tqdm(list(counter_author.keys())):\n",
    "            author_most_pop[author] = data.loc[data.authors == author].\\\n",
    "                        groupby('item_id')['item_id'].\\\n",
    "                        count().sort_values(ascending=False).index.to_list()\n",
    "        return author_most_pop\n",
    "    \n",
    "    for author in tqdm(list(counter_author.keys())):\n",
    "        author_most_pop[author] = data.loc[(data.sex==gender)&(data.authors == author)].\\\n",
    "                        groupby('item_id')['item_id'].\\\n",
    "                        count().sort_values(ascending=False).index.to_list()\n",
    "         \n",
    "    return author_most_pop"
   ]
  },
  {
   "cell_type": "code",
   "execution_count": null,
   "metadata": {},
   "outputs": [],
   "source": []
  },
  {
   "cell_type": "code",
   "execution_count": 70,
   "metadata": {},
   "outputs": [
    {
     "name": "stderr",
     "output_type": "stream",
     "text": [
      "100%|██████████| 18950/18950 [23:41<00:00, 13.33it/s]\n"
     ]
    }
   ],
   "source": [
    "author_most_pop = make_author_most_pop(int_item)"
   ]
  },
  {
   "cell_type": "code",
   "execution_count": 74,
   "metadata": {},
   "outputs": [
    {
     "name": "stderr",
     "output_type": "stream",
     "text": [
      "100%|██████████| 18950/18950 [19:16<00:00, 16.39it/s]\n"
     ]
    }
   ],
   "source": [
    "author_most_pop_male = make_author_most_pop(int_user,0)"
   ]
  },
  {
   "cell_type": "code",
   "execution_count": 77,
   "metadata": {},
   "outputs": [
    {
     "name": "stderr",
     "output_type": "stream",
     "text": [
      "100%|██████████| 18950/18950 [19:19<00:00, 16.34it/s]\n"
     ]
    }
   ],
   "source": [
    "author_most_pop_female = make_author_most_pop(int_user,1)"
   ]
  },
  {
   "cell_type": "code",
   "execution_count": 71,
   "metadata": {},
   "outputs": [],
   "source": [
    "save_obj(author_most_pop,'author_most_pop')"
   ]
  },
  {
   "cell_type": "code",
   "execution_count": 75,
   "metadata": {},
   "outputs": [],
   "source": [
    "save_obj(author_most_pop_male,'author_most_pop_male')"
   ]
  },
  {
   "cell_type": "code",
   "execution_count": 78,
   "metadata": {},
   "outputs": [],
   "source": [
    "save_obj(author_most_pop_female,'author_most_pop_female')"
   ]
  },
  {
   "cell_type": "code",
   "execution_count": null,
   "metadata": {},
   "outputs": [],
   "source": []
  },
  {
   "cell_type": "code",
   "execution_count": 113,
   "metadata": {},
   "outputs": [
    {
     "name": "stderr",
     "output_type": "stream",
     "text": [
      "100%|██████████| 1977/1977 [00:03<00:00, 576.54it/s]\n"
     ]
    }
   ],
   "source": [
    "for user in tqdm(sample.iloc[user_list_less_8].Id.values):\n",
    "    pred = recommend_n_popular(10,user,merged.loc[merged.user_id==user],[])\n",
    "    answ = \" \".join([str(i) for i in pred])\n",
    "    sample.loc[sample.Id==user,'Predicted'] = answ"
   ]
  },
  {
   "cell_type": "code",
   "execution_count": 60,
   "metadata": {},
   "outputs": [],
   "source": [
    "def add_item_to_pred(items,user_items,pred):\n",
    "    for item in items:\n",
    "        if (item not in pred) and (item not in user_items):\n",
    "            pred.append(item)\n",
    "            break\n",
    "    return pred"
   ]
  },
  {
   "cell_type": "code",
   "execution_count": null,
   "metadata": {},
   "outputs": [],
   "source": []
  },
  {
   "cell_type": "code",
   "execution_count": null,
   "metadata": {},
   "outputs": [],
   "source": []
  },
  {
   "cell_type": "code",
   "execution_count": 114,
   "metadata": {},
   "outputs": [
    {
     "name": "stderr",
     "output_type": "stream",
     "text": [
      "100%|██████████| 1097/1097 [00:15<00:00, 70.30it/s]\n"
     ]
    }
   ],
   "source": [
    "for user in tqdm(sample.iloc[user_list_more_8].Id.values):\n",
    "    pred = []\n",
    "    gender = users.loc[users.user_id==user].sex.values\n",
    "    top1_genre,top2_genre,top1_author,last1_author,last2_author = find_users_attr(user)\n",
    "    user_activity = merged.loc[merged.user_id==user]\n",
    "    user_items = user_activity.item_id.to_list()\n",
    "    \n",
    "    if top1_genre=='nan':\n",
    "        top1_genre = str(top2_genre)\n",
    "    if top2_genre=='nan':\n",
    "        top2_genre = str(top1_genre)\n",
    "    \n",
    "    if len(gender)==0:\n",
    "        most_pop = author_most_pop\n",
    "    elif gender==0:\n",
    "        most_pop=author_most_pop_male\n",
    "    elif gender==1:\n",
    "        most_pop=author_most_pop_female\n",
    "    \n",
    "    \n",
    "    authors_items = most_pop[last1_author]\n",
    "    pred = add_item_to_pred(authors_items,user_items,pred)\n",
    "    pred = add_item_to_pred(authors_items,user_items,pred)\n",
    "    pred = add_item_to_pred(authors_items,user_items,pred)\n",
    "    \n",
    "    authors_items = most_pop[last2_author]\n",
    "    pred = add_item_to_pred(authors_items,user_items,pred)\n",
    "    pred = add_item_to_pred(authors_items,user_items,pred)\n",
    "    \n",
    "    authors_items = most_pop[top1_author]\n",
    "    pred = add_item_to_pred(authors_items,user_items,pred)\n",
    "            \n",
    "    top_genre_author = author_genre.loc[:,top1_genre].sort_values(ascending=False).head(1).index[0]\n",
    "    if str(top_genre_author) =='nan':\n",
    "        authors_items = author_most_pop[str(top_genre_author)]\n",
    "    else :\n",
    "        authors_items = most_pop[top_genre_author]\n",
    "    pred = add_item_to_pred(authors_items,user_items,pred)\n",
    "            \n",
    "    top_genre_author = author_genre.loc[:,top1_genre].sort_values(ascending=False).head(2).index[1]\n",
    "    if str(top_genre_author) =='nan':\n",
    "        authors_items = author_most_pop[str(top_genre_author)]\n",
    "    else :\n",
    "        authors_items = most_pop[top_genre_author]\n",
    "    \n",
    "    pred = add_item_to_pred(authors_items,user_items,pred)\n",
    "    \n",
    "    \n",
    "    if str(top_genre_author) =='nan':\n",
    "        authors_items = author_most_pop[str(last1_author)]\n",
    "    else :\n",
    "        authors_items = most_pop[last1_author]\n",
    "    pred = add_item_to_pred(authors_items,user_items,pred)\n",
    "    \n",
    "    \n",
    "    \n",
    "    top_genre_author = author_genre.loc[:,top2_genre].sort_values(ascending=False).head(1).index[0]\n",
    "    if str(top_genre_author) =='nan':\n",
    "        authors_items = author_most_pop[str(top_genre_author)]\n",
    "    else :\n",
    "        authors_items = most_pop[top_genre_author]\n",
    "    pred = add_item_to_pred(authors_items,user_items,pred)\n",
    "            \n",
    "    top_genre_author = author_genre.loc[:,top2_genre].sort_values(ascending=False).head(2).index[1]\n",
    "    if str(top_genre_author) =='nan':\n",
    "        authors_items = author_most_pop[str(top_genre_author)]\n",
    "    else :\n",
    "        authors_items = most_pop[top_genre_author]\n",
    "    pred = add_item_to_pred(authors_items,user_items,pred)\n",
    "            \n",
    "    top_genre_author = author_genre.loc[:,top1_genre].sort_values(ascending=False).head(3).index[2]\n",
    "    if str(top_genre_author) =='nan':\n",
    "        authors_items = author_most_pop[str(top_genre_author)]\n",
    "    else :\n",
    "        authors_items = most_pop[top_genre_author]\n",
    "    pred = add_item_to_pred(authors_items,user_items,pred)   \n",
    "    \n",
    "    if str(top_genre_author) =='nan':\n",
    "        authors_items = author_most_pop[str(top1_author)]\n",
    "    else :\n",
    "        authors_items = most_pop[top1_author]\n",
    "    \n",
    "    pred = add_item_to_pred(authors_items,user_items,pred)\n",
    "    \n",
    "    if len(pred)!=10:\n",
    "        authors_items = most_pop[last1_author]\n",
    "        pred = add_item_to_pred(authors_items,user_items,pred)\n",
    "            \n",
    "    if len(pred)!=10:\n",
    "        top_genre_author = author_genre.loc[:,top1_genre].sort_values(ascending=False).head(2).index[0]\n",
    "        if str(top_genre_author) =='nan':\n",
    "            authors_items = author_most_pop[str(top_genre_author)]\n",
    "        else :\n",
    "            authors_items = most_pop[top_genre_author]\n",
    "        pred = add_item_to_pred(authors_items,user_items,pred)\n",
    "                           \n",
    "    if len(pred)!=10:\n",
    "        second_popular = user_activity.groupby('authors')['authors'].count().\\\n",
    "                        sort_values(ascending=False).index.to_list()[1].split(',')[0]\n",
    "        authors_items = most_pop[second_popular]\n",
    "        pred = add_item_to_pred(authors_items,user_items,pred)\n",
    "                \n",
    "    if len(pred)!=10:\n",
    "        top_genre_author = author_genre.loc[:,top1_genre].sort_values(ascending=False).head(3).index[2]\n",
    "        if str(top_genre_author) =='nan':\n",
    "            authors_items = author_most_pop[str(top_genre_author)]\n",
    "        else :\n",
    "            authors_items = most_pop[top_genre_author]\n",
    "        pred = add_item_to_pred(authors_items,user_items,pred)\n",
    "                \n",
    "    if len(pred)!=10:\n",
    "        top_genre_author = author_genre.loc[:,top2_genre].sort_values(ascending=False).head(3).index[2]\n",
    "        if str(top_genre_author) =='nan':\n",
    "            authors_items = author_most_pop[str(top_genre_author)]\n",
    "        else :\n",
    "            authors_items = most_pop[top_genre_author]\n",
    "        pred = add_item_to_pred(authors_items,user_items,pred)\n",
    "    \n",
    "    if len(pred)!=10:\n",
    "        top_genre_author = author_genre.loc[:,top1_genre].sort_values(ascending=False).head(4).index[3]\n",
    "        if str(top_genre_author) =='nan':\n",
    "            authors_items = author_most_pop[str(top_genre_author)]\n",
    "        else :\n",
    "            authors_items = most_pop[top_genre_author]\n",
    "        pred = add_item_to_pred(authors_items,user_items,pred)\n",
    "                \n",
    "    if len(pred)!=10:   \n",
    "        pred.append(all_top_15[0])\n",
    "        \n",
    "    answ = \" \".join([str(i) for i in pred])\n",
    "    sample.loc[sample.Id==user,'Predicted'] = answ"
   ]
  },
  {
   "cell_type": "code",
   "execution_count": 115,
   "metadata": {},
   "outputs": [],
   "source": [
    "sample.to_csv('content_based_v2.csv',index=False)"
   ]
  },
  {
   "cell_type": "code",
   "execution_count": null,
   "metadata": {},
   "outputs": [],
   "source": []
  },
  {
   "cell_type": "code",
   "execution_count": null,
   "metadata": {},
   "outputs": [],
   "source": []
  },
  {
   "cell_type": "code",
   "execution_count": null,
   "metadata": {},
   "outputs": [],
   "source": []
  },
  {
   "cell_type": "code",
   "execution_count": null,
   "metadata": {},
   "outputs": [],
   "source": []
  }
 ],
 "metadata": {
  "kernelspec": {
   "display_name": "Python 3",
   "language": "python",
   "name": "python3"
  },
  "language_info": {
   "codemirror_mode": {
    "name": "ipython",
    "version": 3
   },
   "file_extension": ".py",
   "mimetype": "text/x-python",
   "name": "python",
   "nbconvert_exporter": "python",
   "pygments_lexer": "ipython3",
   "version": "3.8.2"
  }
 },
 "nbformat": 4,
 "nbformat_minor": 4
}
